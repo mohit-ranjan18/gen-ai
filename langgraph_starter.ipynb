{
  "nbformat": 4,
  "nbformat_minor": 0,
  "metadata": {
    "colab": {
      "provenance": [],
      "toc_visible": true,
      "authorship_tag": "ABX9TyOC0YU1aMATNpX0/p8f3sXL",
      "include_colab_link": true
    },
    "kernelspec": {
      "name": "python3",
      "display_name": "Python 3"
    },
    "language_info": {
      "name": "python"
    }
  },
  "cells": [
    {
      "cell_type": "markdown",
      "metadata": {
        "id": "view-in-github",
        "colab_type": "text"
      },
      "source": [
        "<a href=\"https://colab.research.google.com/github/mohit-ranjan18/gen-ai/blob/agent-experiments/langgraph_starter.ipynb\" target=\"_parent\"><img src=\"https://colab.research.google.com/assets/colab-badge.svg\" alt=\"Open In Colab\"/></a>"
      ]
    },
    {
      "cell_type": "code",
      "source": [
        "!pip install langgraph"
      ],
      "metadata": {
        "colab": {
          "base_uri": "https://localhost:8080/"
        },
        "id": "3-77y6jR_L_K",
        "outputId": "8775dfc8-54ad-4892-aaf7-25546e7ba0f6"
      },
      "execution_count": 9,
      "outputs": [
        {
          "output_type": "stream",
          "name": "stdout",
          "text": [
            "Collecting langgraph\n",
            "  Downloading langgraph-0.4.8-py3-none-any.whl.metadata (6.8 kB)\n",
            "Requirement already satisfied: langchain-core>=0.1 in /usr/local/lib/python3.11/dist-packages (from langgraph) (0.3.63)\n",
            "Collecting langgraph-checkpoint>=2.0.26 (from langgraph)\n",
            "  Downloading langgraph_checkpoint-2.0.26-py3-none-any.whl.metadata (4.6 kB)\n",
            "Collecting langgraph-prebuilt>=0.2.0 (from langgraph)\n",
            "  Downloading langgraph_prebuilt-0.2.2-py3-none-any.whl.metadata (4.5 kB)\n",
            "Collecting langgraph-sdk>=0.1.42 (from langgraph)\n",
            "  Downloading langgraph_sdk-0.1.70-py3-none-any.whl.metadata (1.5 kB)\n",
            "Requirement already satisfied: pydantic>=2.7.4 in /usr/local/lib/python3.11/dist-packages (from langgraph) (2.11.5)\n",
            "Requirement already satisfied: xxhash>=3.5.0 in /usr/local/lib/python3.11/dist-packages (from langgraph) (3.5.0)\n",
            "Requirement already satisfied: langsmith<0.4,>=0.1.126 in /usr/local/lib/python3.11/dist-packages (from langchain-core>=0.1->langgraph) (0.3.44)\n",
            "Requirement already satisfied: tenacity!=8.4.0,<10.0.0,>=8.1.0 in /usr/local/lib/python3.11/dist-packages (from langchain-core>=0.1->langgraph) (9.1.2)\n",
            "Requirement already satisfied: jsonpatch<2.0,>=1.33 in /usr/local/lib/python3.11/dist-packages (from langchain-core>=0.1->langgraph) (1.33)\n",
            "Requirement already satisfied: PyYAML>=5.3 in /usr/local/lib/python3.11/dist-packages (from langchain-core>=0.1->langgraph) (6.0.2)\n",
            "Requirement already satisfied: packaging<25,>=23.2 in /usr/local/lib/python3.11/dist-packages (from langchain-core>=0.1->langgraph) (24.2)\n",
            "Requirement already satisfied: typing-extensions>=4.7 in /usr/local/lib/python3.11/dist-packages (from langchain-core>=0.1->langgraph) (4.14.0)\n",
            "Collecting ormsgpack<2.0.0,>=1.8.0 (from langgraph-checkpoint>=2.0.26->langgraph)\n",
            "  Downloading ormsgpack-1.10.0-cp311-cp311-manylinux_2_17_x86_64.manylinux2014_x86_64.whl.metadata (43 kB)\n",
            "\u001b[2K     \u001b[90m━━━━━━━━━━━━━━━━━━━━━━━━━━━━━━━━━━━━━━━━\u001b[0m \u001b[32m43.7/43.7 kB\u001b[0m \u001b[31m1.7 MB/s\u001b[0m eta \u001b[36m0:00:00\u001b[0m\n",
            "\u001b[?25hRequirement already satisfied: httpx>=0.25.2 in /usr/local/lib/python3.11/dist-packages (from langgraph-sdk>=0.1.42->langgraph) (0.28.1)\n",
            "Requirement already satisfied: orjson>=3.10.1 in /usr/local/lib/python3.11/dist-packages (from langgraph-sdk>=0.1.42->langgraph) (3.10.18)\n",
            "Requirement already satisfied: annotated-types>=0.6.0 in /usr/local/lib/python3.11/dist-packages (from pydantic>=2.7.4->langgraph) (0.7.0)\n",
            "Requirement already satisfied: pydantic-core==2.33.2 in /usr/local/lib/python3.11/dist-packages (from pydantic>=2.7.4->langgraph) (2.33.2)\n",
            "Requirement already satisfied: typing-inspection>=0.4.0 in /usr/local/lib/python3.11/dist-packages (from pydantic>=2.7.4->langgraph) (0.4.1)\n",
            "Requirement already satisfied: anyio in /usr/local/lib/python3.11/dist-packages (from httpx>=0.25.2->langgraph-sdk>=0.1.42->langgraph) (4.9.0)\n",
            "Requirement already satisfied: certifi in /usr/local/lib/python3.11/dist-packages (from httpx>=0.25.2->langgraph-sdk>=0.1.42->langgraph) (2025.4.26)\n",
            "Requirement already satisfied: httpcore==1.* in /usr/local/lib/python3.11/dist-packages (from httpx>=0.25.2->langgraph-sdk>=0.1.42->langgraph) (1.0.9)\n",
            "Requirement already satisfied: idna in /usr/local/lib/python3.11/dist-packages (from httpx>=0.25.2->langgraph-sdk>=0.1.42->langgraph) (3.10)\n",
            "Requirement already satisfied: h11>=0.16 in /usr/local/lib/python3.11/dist-packages (from httpcore==1.*->httpx>=0.25.2->langgraph-sdk>=0.1.42->langgraph) (0.16.0)\n",
            "Requirement already satisfied: jsonpointer>=1.9 in /usr/local/lib/python3.11/dist-packages (from jsonpatch<2.0,>=1.33->langchain-core>=0.1->langgraph) (3.0.0)\n",
            "Requirement already satisfied: requests<3,>=2 in /usr/local/lib/python3.11/dist-packages (from langsmith<0.4,>=0.1.126->langchain-core>=0.1->langgraph) (2.32.3)\n",
            "Requirement already satisfied: requests-toolbelt<2.0.0,>=1.0.0 in /usr/local/lib/python3.11/dist-packages (from langsmith<0.4,>=0.1.126->langchain-core>=0.1->langgraph) (1.0.0)\n",
            "Requirement already satisfied: zstandard<0.24.0,>=0.23.0 in /usr/local/lib/python3.11/dist-packages (from langsmith<0.4,>=0.1.126->langchain-core>=0.1->langgraph) (0.23.0)\n",
            "Requirement already satisfied: charset-normalizer<4,>=2 in /usr/local/lib/python3.11/dist-packages (from requests<3,>=2->langsmith<0.4,>=0.1.126->langchain-core>=0.1->langgraph) (3.4.2)\n",
            "Requirement already satisfied: urllib3<3,>=1.21.1 in /usr/local/lib/python3.11/dist-packages (from requests<3,>=2->langsmith<0.4,>=0.1.126->langchain-core>=0.1->langgraph) (2.4.0)\n",
            "Requirement already satisfied: sniffio>=1.1 in /usr/local/lib/python3.11/dist-packages (from anyio->httpx>=0.25.2->langgraph-sdk>=0.1.42->langgraph) (1.3.1)\n",
            "Downloading langgraph-0.4.8-py3-none-any.whl (152 kB)\n",
            "\u001b[2K   \u001b[90m━━━━━━━━━━━━━━━━━━━━━━━━━━━━━━━━━━━━━━━━\u001b[0m \u001b[32m152.4/152.4 kB\u001b[0m \u001b[31m4.9 MB/s\u001b[0m eta \u001b[36m0:00:00\u001b[0m\n",
            "\u001b[?25hDownloading langgraph_checkpoint-2.0.26-py3-none-any.whl (44 kB)\n",
            "\u001b[2K   \u001b[90m━━━━━━━━━━━━━━━━━━━━━━━━━━━━━━━━━━━━━━━━\u001b[0m \u001b[32m44.2/44.2 kB\u001b[0m \u001b[31m3.0 MB/s\u001b[0m eta \u001b[36m0:00:00\u001b[0m\n",
            "\u001b[?25hDownloading langgraph_prebuilt-0.2.2-py3-none-any.whl (23 kB)\n",
            "Downloading langgraph_sdk-0.1.70-py3-none-any.whl (49 kB)\n",
            "\u001b[2K   \u001b[90m━━━━━━━━━━━━━━━━━━━━━━━━━━━━━━━━━━━━━━━━\u001b[0m \u001b[32m50.0/50.0 kB\u001b[0m \u001b[31m3.1 MB/s\u001b[0m eta \u001b[36m0:00:00\u001b[0m\n",
            "\u001b[?25hDownloading ormsgpack-1.10.0-cp311-cp311-manylinux_2_17_x86_64.manylinux2014_x86_64.whl (216 kB)\n",
            "\u001b[2K   \u001b[90m━━━━━━━━━━━━━━━━━━━━━━━━━━━━━━━━━━━━━━━━\u001b[0m \u001b[32m216.5/216.5 kB\u001b[0m \u001b[31m14.8 MB/s\u001b[0m eta \u001b[36m0:00:00\u001b[0m\n",
            "\u001b[?25hInstalling collected packages: ormsgpack, langgraph-sdk, langgraph-checkpoint, langgraph-prebuilt, langgraph\n",
            "Successfully installed langgraph-0.4.8 langgraph-checkpoint-2.0.26 langgraph-prebuilt-0.2.2 langgraph-sdk-0.1.70 ormsgpack-1.10.0\n"
          ]
        }
      ]
    },
    {
      "cell_type": "code",
      "source": [
        "from typing import Annotated\n",
        "\n",
        "from typing_extensions import TypedDict\n",
        "\n",
        "from langgraph.graph import StateGraph, START\n",
        "from langgraph.graph.message import add_messages\n",
        "\n",
        "\n",
        "class State(TypedDict):\n",
        "    # Messages have the type \"list\". The `add_messages` function\n",
        "    # in the annotation defines how this state key should be updated\n",
        "    # (in this case, it appends messages to the list, rather than overwriting them)\n",
        "    messages: Annotated[list, add_messages]\n",
        "\n",
        "\n",
        "graph_builder = StateGraph(State)"
      ],
      "metadata": {
        "id": "Nj9lVvsMGQTZ"
      },
      "execution_count": 2,
      "outputs": []
    },
    {
      "cell_type": "code",
      "source": [
        "import getpass\n",
        "import os\n",
        "\n",
        "if \"GROQ_API_KEY\" not in os.environ:\n",
        "    os.environ[\"GROQ_API_KEY\"] = getpass.getpass(\"Enter your Groq API key: \")"
      ],
      "metadata": {
        "colab": {
          "base_uri": "https://localhost:8080/"
        },
        "id": "eXZ0l9bVHFtH",
        "outputId": "3418400c-308c-4d3a-bfa1-c4d82eee141c"
      },
      "execution_count": 13,
      "outputs": [
        {
          "name": "stdout",
          "output_type": "stream",
          "text": [
            "Enter your Groq API key: ··········\n"
          ]
        }
      ]
    },
    {
      "cell_type": "code",
      "source": [
        "!pip install -qU langchain-groq"
      ],
      "metadata": {
        "id": "YBrn2U7fHmpR"
      },
      "execution_count": 14,
      "outputs": []
    },
    {
      "cell_type": "code",
      "source": [
        "from langchain_groq import ChatGroq\n",
        "\n",
        "llm = ChatGroq(\n",
        "    model=\"llama-3.1-8b-instant\",\n",
        "    temperature=0,\n",
        "    max_tokens=None,\n",
        "    timeout=None,\n",
        "    max_retries=2,\n",
        "    # other params...\n",
        ")"
      ],
      "metadata": {
        "id": "8jgiVGCyIP7f"
      },
      "execution_count": 15,
      "outputs": []
    },
    {
      "cell_type": "code",
      "source": [
        "messages = [\n",
        "    (\n",
        "        \"system\",\n",
        "        \"You are a helpful assistant that translates English to French. Translate the user sentence.\",\n",
        "    ),\n",
        "    (\"human\", \"I love programming.\"),\n",
        "]\n",
        "ai_msg = llm.invoke(messages)\n",
        "ai_msg"
      ],
      "metadata": {
        "colab": {
          "base_uri": "https://localhost:8080/"
        },
        "id": "b3QEp2yxIYuU",
        "outputId": "bca4668f-0459-448c-d5e7-30d58437ef12"
      },
      "execution_count": 6,
      "outputs": [
        {
          "output_type": "execute_result",
          "data": {
            "text/plain": [
              "AIMessage(content='Je adore le programmation.', additional_kwargs={}, response_metadata={'token_usage': {'completion_tokens': 7, 'prompt_tokens': 55, 'total_tokens': 62, 'completion_time': 0.017004686, 'prompt_time': 0.002837082, 'queue_time': 0.199866535, 'total_time': 0.019841768}, 'model_name': 'llama-3.1-8b-instant', 'system_fingerprint': 'fp_510c177af0', 'finish_reason': 'stop', 'logprobs': None}, id='run--897b3496-9ea9-48d4-954e-6e7fa5f2fb01-0', usage_metadata={'input_tokens': 55, 'output_tokens': 7, 'total_tokens': 62})"
            ]
          },
          "metadata": {},
          "execution_count": 6
        }
      ]
    },
    {
      "cell_type": "code",
      "source": [
        "print(ai_msg.content)"
      ],
      "metadata": {
        "colab": {
          "base_uri": "https://localhost:8080/"
        },
        "id": "PcH6TVCPIdkv",
        "outputId": "077a5de2-22e5-43c2-c2a2-2139acf38608"
      },
      "execution_count": 7,
      "outputs": [
        {
          "output_type": "stream",
          "name": "stdout",
          "text": [
            "Je adore le programmation.\n"
          ]
        }
      ]
    },
    {
      "cell_type": "code",
      "source": [
        "def chatbot(state: State):\n",
        "    return {\"messages\": [llm.invoke(state[\"messages\"])]}\n",
        "\n",
        "\n",
        "# The first argument is the unique node name\n",
        "# The second argument is the function or object that will be called whenever\n",
        "# the node is used.\n",
        "graph_builder.add_node(\"chatbot\", chatbot)"
      ],
      "metadata": {
        "colab": {
          "base_uri": "https://localhost:8080/"
        },
        "id": "kqYuyMsxImDc",
        "outputId": "743623c3-6039-432c-d103-cfbabdc8d21e"
      },
      "execution_count": 8,
      "outputs": [
        {
          "output_type": "execute_result",
          "data": {
            "text/plain": [
              "<langgraph.graph.state.StateGraph at 0x7cc9df2b7a10>"
            ]
          },
          "metadata": {},
          "execution_count": 8
        }
      ]
    },
    {
      "cell_type": "code",
      "source": [
        "graph_builder.add_edge(START, \"chatbot\")"
      ],
      "metadata": {
        "colab": {
          "base_uri": "https://localhost:8080/"
        },
        "id": "8lMp7Z-0I65k",
        "outputId": "481d8b39-e2d1-4a32-bb13-6671c7601803"
      },
      "execution_count": 9,
      "outputs": [
        {
          "output_type": "execute_result",
          "data": {
            "text/plain": [
              "<langgraph.graph.state.StateGraph at 0x7cc9df2b7a10>"
            ]
          },
          "metadata": {},
          "execution_count": 9
        }
      ]
    },
    {
      "cell_type": "code",
      "source": [
        "graph = graph_builder.compile()"
      ],
      "metadata": {
        "id": "uWjw35aeI_mQ"
      },
      "execution_count": 10,
      "outputs": []
    },
    {
      "cell_type": "code",
      "source": [
        "from IPython.display import Image, display\n",
        "\n",
        "try:\n",
        "    display(Image(graph.get_graph().draw_mermaid_png()))\n",
        "except Exception:\n",
        "    # This requires some extra dependencies and is optional\n",
        "    pass"
      ],
      "metadata": {
        "colab": {
          "base_uri": "https://localhost:8080/",
          "height": 251
        },
        "id": "Imw8Wol4JDsm",
        "outputId": "9b2552e6-1d16-4bd6-8ce4-1b7b1a447ea8"
      },
      "execution_count": 11,
      "outputs": [
        {
          "output_type": "display_data",
          "data": {
            "image/png": "[encoded data removed]",
            "text/plain": [
              "<IPython.core.display.Image object>"
            ]
          },
          "metadata": {}
        }
      ]
    },
    {
      "cell_type": "code",
      "source": [
        "def stream_graph_updates(user_input: str):\n",
        "    for event in graph.stream({\"messages\": [{\"role\": \"user\", \"content\": user_input}]}):\n",
        "        for value in event.values():\n",
        "            print(\"Assistant:\", value[\"messages\"][-1].content)\n",
        "\n",
        "\n",
        "while True:\n",
        "    try:\n",
        "        user_input = input(\"User: \")\n",
        "        if user_input.lower() in [\"quit\", \"exit\", \"q\"]:\n",
        "            print(\"Goodbye!\")\n",
        "            break\n",
        "        stream_graph_updates(user_input)\n",
        "    except:\n",
        "        # fallback if input() is not available\n",
        "        user_input = \"What do you know about LangGraph?\"\n",
        "        print(\"User: \" + user_input)\n",
        "        stream_graph_updates(user_input)\n",
        "        break"
      ],
      "metadata": {
        "colab": {
          "base_uri": "https://localhost:8080/"
        },
        "collapsed": true,
        "id": "xnBLyjs_JIxd",
        "outputId": "4dad54c8-1a7d-4994-d54c-a8d6d3b0a8c1"
      },
      "execution_count": 12,
      "outputs": [
        {
          "output_type": "stream",
          "name": "stdout",
          "text": [
            "User: Tell me something about trump and modi relation and how it impacts world\n",
            "Assistant: The relationship between Donald Trump, the 45th President of the United States, and Narendra Modi, the Prime Minister of India, has been significant and has had various implications for the world.\n",
            "\n",
            "**Early Relations (2014-2016)**\n",
            "\n",
            "Narendra Modi, who became the Prime Minister of India in 2014, was initially seen with skepticism by the Obama administration due to concerns over his handling of the 2002 Gujarat riots. However, Donald Trump, who was a businessman at that time, had expressed admiration for Modi's economic policies and had even tweeted about his potential as a leader.\n",
            "\n",
            "**Trump's Presidency (2017-2021)**\n",
            "\n",
            "When Trump became the President of the United States in 2017, he quickly established a rapport with Modi. The two leaders shared a strong commitment to economic nationalism, and Trump saw Modi as a kindred spirit in his efforts to promote American business interests in India.\n",
            "\n",
            "**Key Developments**\n",
            "\n",
            "1. **Trade Relations**: Trump and Modi worked together to strengthen trade ties between the two countries. In 2017, the US and India signed a Logistics Exchange Memorandum of Agreement (LEMOA), which facilitated cooperation in defense logistics and supply chain management.\n",
            "2. **Defense Cooperation**: The two leaders also strengthened defense ties, with the US providing India with advanced military equipment, including the F-16 and F-35 fighter jets.\n",
            "3. **Energy Cooperation**: Trump and Modi collaborated on energy projects, including the sale of American liquefied natural gas (LNG) to India.\n",
            "4. **Counter-Terrorism**: The two leaders shared concerns over terrorism and worked together to counter the threat posed by groups like ISIS and Al-Qaeda.\n",
            "\n",
            "**Impact on the World**\n",
            "\n",
            "The Trump-Modi relationship had significant implications for the world:\n",
            "\n",
            "1. **Shift in Global Alliances**: The Trump-Modi partnership marked a shift in global alliances, with the US and India emerging as key players in the Indo-Pacific region.\n",
            "2. **Countering China**: The two leaders worked together to counter China's growing influence in the region, with the US and India cooperating on issues like trade, security, and energy.\n",
            "3. **Promoting Economic Growth**: The Trump-Modi relationship helped promote economic growth in both countries, with the US and India signing several trade agreements and investment deals.\n",
            "4. **Strengthening Democracy**: The two leaders shared a commitment to democracy and human rights, with Trump and Modi working together to promote democratic values and counter authoritarianism.\n",
            "\n",
            "**Legacy**\n",
            "\n",
            "The Trump-Modi relationship has left a lasting impact on the world:\n",
            "\n",
            "1. **Strengthened US-India Ties**: The partnership has strengthened US-India ties, with the two countries emerging as key players in the Indo-Pacific region.\n",
            "2. **Countering China**: The Trump-Modi relationship has helped counter China's growing influence in the region, with the US and India cooperating on issues like trade, security, and energy.\n",
            "3. **Promoting Economic Growth**: The partnership has promoted economic growth in both countries, with the US and India signing several trade agreements and investment deals.\n",
            "\n",
            "However, the relationship has also been criticized for its focus on economic nationalism and its potential impact on global governance and institutions.\n",
            "User: Is modi still respected across the world?\n",
            "Assistant: Narendra Modi, the Prime Minister of India, has a complex and multifaceted reputation globally. His respect and popularity vary across different regions and communities. Here's a balanced view:\n",
            "\n",
            "**Positive perceptions:**\n",
            "\n",
            "1. **India's economic growth**: Modi's government has been credited with implementing policies that have boosted India's economic growth, making it one of the fastest-growing major economies in the world.\n",
            "2. **Infrastructure development**: His government has invested heavily in infrastructure development, including roads, railways, and airports, which has improved connectivity and facilitated economic growth.\n",
            "3. **Digital India initiative**: Modi's \"Digital India\" initiative has aimed to make India a hub for digital innovation and entrepreneurship, which has gained international recognition.\n",
            "4. **Global diplomacy**: Modi has been actively engaging with world leaders, including those from the United States, China, and other major economies, to promote India's interests and strengthen global partnerships.\n",
            "\n",
            "**Negative perceptions:**\n",
            "\n",
            "1. **Human rights concerns**: Modi's government has faced criticism for human rights abuses, particularly in the context of the Kashmir conflict and the treatment of minority communities, such as Muslims and Dalits.\n",
            "2. **Rise of nationalism**: Modi's government has been accused of promoting a form of nationalism that has led to increased tensions with neighboring countries, particularly Pakistan, and has been criticized for its handling of the Kashmir issue.\n",
            "3. **Economic inequality**: Critics argue that Modi's economic policies have exacerbated economic inequality in India, with the wealthy elite benefiting at the expense of the poor and marginalized.\n",
            "4. **Climate change**: India has been criticized for its slow progress in addressing climate change, with Modi's government facing criticism for its fossil fuel-based economic growth model.\n",
            "\n",
            "**Regional perspectives:**\n",
            "\n",
            "1. **South Asia**: Modi's government has been criticized by neighboring countries, particularly Pakistan, for its handling of the Kashmir issue and its nationalist rhetoric.\n",
            "2. **Southeast Asia**: Modi's government has been seen as a key player in regional economic and security initiatives, such as the Bay of Bengal Initiative for Multi-Sectoral Technical and Economic Cooperation (BIMSTEC).\n",
            "3. **Africa**: Modi's government has been actively engaging with African countries, particularly in the context of trade and investment, and has been seen as a key player in regional economic initiatives.\n",
            "4. **Europe**: Modi's government has been criticized by European countries, particularly the United Kingdom, for its handling of the Kashmir issue and its nationalist rhetoric.\n",
            "\n",
            "In conclusion, while Modi's government has achieved significant economic growth and development, his respect and popularity vary across different regions and communities. His government's handling of human rights, economic inequality, and climate change has been criticized by many, particularly in the context of South Asia and Europe.\n",
            "User: Answer in yes or no\n",
            "Assistant: I'm ready to answer in yes or no. What's your question?\n",
            "User: About modi respect\n",
            "Assistant: Narendra Modi is the 14th and current Prime Minister of India, serving since 2014. He is a member of the Bharatiya Janata Party (BJP) and has been a key figure in Indian politics for several decades. Here are some aspects of his life and career that are often associated with respect:\n",
            "\n",
            "1. **Leadership during the COVID-19 pandemic**: Modi's government implemented a nationwide lockdown in 2020 to combat the spread of COVID-19, which was widely praised by international leaders and health experts. His leadership during this crisis earned him respect from many Indians and global leaders.\n",
            "2. **Economic reforms**: Modi's government has implemented several economic reforms, including the Goods and Services Tax (GST), which has simplified India's tax system and increased tax revenue. His government has also taken steps to promote entrepreneurship and innovation, which has earned him respect from business leaders and economists.\n",
            "3. **Infrastructure development**: Modi's government has invested heavily in infrastructure development, including roads, highways, airports, and railways. This has improved connectivity and facilitated economic growth, earning him respect from Indians who have benefited from these projects.\n",
            "4. **Social welfare programs**: Modi's government has launched several social welfare programs, including the Pradhan Mantri Jan Dhan Yojana (PMJDY), which provides financial inclusion to millions of Indians. His government has also launched programs to promote education, healthcare, and sanitation, which have earned him respect from Indians who have benefited from these programs.\n",
            "5. **Foreign policy**: Modi's government has taken a strong stance on foreign policy issues, including the Doklam standoff with China and the Kashmir issue with Pakistan. His government has also strengthened ties with countries like the United States, Japan, and Israel, which has earned him respect from Indians who value strong international relations.\n",
            "6. **Personal qualities**: Modi is known for his strong work ethic, simplicity, and humility. He is a vegetarian and has been a vocal advocate for animal welfare and environmental protection. His personal qualities have earned him respect from Indians who admire his commitment to public service.\n",
            "\n",
            "However, it's worth noting that Modi is also a polarizing figure, and his policies and actions have been criticized by many Indians and international observers. Some of the criticisms include:\n",
            "\n",
            "1. **Hindutva ideology**: Modi's government has been accused of promoting a Hindu nationalist agenda, which has led to concerns about the rights of minorities, particularly Muslims and Christians.\n",
            "2. **Communal violence**: Modi's government has been criticized for its handling of communal violence, including the 2002 Gujarat riots, which killed over 1,000 people, mostly Muslims.\n",
            "3. **Economic inequality**: Modi's government has been accused of exacerbating economic inequality, particularly in rural areas, where many Indians have been left behind by economic growth.\n",
            "4. **Human rights abuses**: Modi's government has been criticized for human rights abuses, including the use of force against protesters and the detention of activists and journalists.\n",
            "\n",
            "Overall, opinions about Modi's respect are highly divided, and his legacy will likely be shaped by the outcomes of his policies and actions in the coming years.\n",
            "User: Quit\n",
            "Goodbye!\n"
          ]
        }
      ]
    },
    {
      "cell_type": "code",
      "source": [
        "#------------------------------------------------"
      ],
      "metadata": {
        "id": "_NmSQxDFJbFD"
      },
      "execution_count": 7,
      "outputs": []
    },
    {
      "cell_type": "code",
      "source": [
        "#create a graph\n",
        "from typing import Annotated,List\n",
        "\n",
        "from typing_extensions import TypedDict\n",
        "\n",
        "from langgraph.graph import StateGraph, START\n",
        "from langgraph.graph.message import add_messages\n",
        "\n",
        "\n",
        "class State(TypedDict):\n",
        "    # Messages have the type \"list\". The `add_messages` function\n",
        "    # in the annotation defines how this state key should be updated\n",
        "    # (in this case, it appends messages to the list, rather than overwriting them)\n",
        "    # messages: Annotated[list, add_messages]\n",
        "    # name : str\n",
        "    numbers : List[int]\n",
        "    operator : str\n",
        "    state_result : int\n",
        "\n",
        "\n",
        "\n",
        "\n",
        "graph_builder = StateGraph(State)"
      ],
      "metadata": {
        "id": "dJXWwGo196L7"
      },
      "execution_count": 83,
      "outputs": []
    },
    {
      "cell_type": "code",
      "source": [
        "def calculator(state: State):\n",
        "  # state.numbers = [1,3,5,0]\n",
        "  # state.operator = input(\"enter operator\")\n",
        "  if state.get(\"operator\")==\"*\":\n",
        "    result = 1\n",
        "    for n in state.get(\"numbers\"):\n",
        "      result *= n\n",
        "      print(\"#######result###########\",result)\n",
        "    return  {\"numbers\":state.get(\"numbers\"),\"operator\":state.get(\"operator\"),\"state_result\":result}\n",
        "  else:\n",
        "    return 0\n",
        "\n",
        "\n",
        "\n",
        "\n",
        "\n",
        "\n",
        "# The first argument is the unique node name\n",
        "# The second argument is the function or object that will be called whenever\n",
        "# the node is used.\n",
        "graph_builder.add_node(\"calculator\", calculator)"
      ],
      "metadata": {
        "colab": {
          "base_uri": "https://localhost:8080/"
        },
        "id": "e7wzNUwl-x-F",
        "outputId": "7b1ab49f-fa1e-4ad8-b371-8c93d91048eb"
      },
      "execution_count": 84,
      "outputs": [
        {
          "output_type": "execute_result",
          "data": {
            "text/plain": [
              "<langgraph.graph.state.StateGraph at 0x79dafc69d890>"
            ]
          },
          "metadata": {},
          "execution_count": 84
        }
      ]
    },
    {
      "cell_type": "code",
      "source": [
        "graph_builder.add_edge(START, \"calculator\")\n",
        "cal_app = graph_builder.compile()"
      ],
      "metadata": {
        "id": "e-8kSYPoBZio"
      },
      "execution_count": 85,
      "outputs": []
    },
    {
      "cell_type": "code",
      "source": [
        "from IPython.display import Image, display\n",
        "\n",
        "try:\n",
        "    display(Image(graph.get_graph().draw_mermaid_png()))\n",
        "except Exception:\n",
        "    # This requires some extra dependencies and is optional\n",
        "    pass"
      ],
      "metadata": {
        "colab": {
          "base_uri": "https://localhost:8080/",
          "height": 251
        },
        "id": "2HLmzkQvBjLl",
        "outputId": "0567e65a-f329-404f-e841-85908ba2082b"
      },
      "execution_count": 86,
      "outputs": [
        {
          "output_type": "display_data",
          "data": {
            "image/png": "[encoded data removed]",
            "text/plain": [
              "<IPython.core.display.Image object>"
            ]
          },
          "metadata": {}
        }
      ]
    },
    {
      "cell_type": "code",
      "source": [
        "answer = cal_app.invoke({\"numbers\":[1,2,3,10],\"operator\":\"*\"})"
      ],
      "metadata": {
        "colab": {
          "base_uri": "https://localhost:8080/"
        },
        "id": "M44zRGD3Bmxp",
        "outputId": "697ca30c-ccf9-4647-b9bc-664914630215"
      },
      "execution_count": 87,
      "outputs": [
        {
          "output_type": "stream",
          "name": "stdout",
          "text": [
            "#######result########### 1\n",
            "#######result########### 2\n",
            "#######result########### 6\n",
            "#######result########### 60\n"
          ]
        }
      ]
    },
    {
      "cell_type": "code",
      "source": [
        "print(answer)"
      ],
      "metadata": {
        "colab": {
          "base_uri": "https://localhost:8080/"
        },
        "id": "f70QtnFRGnoW",
        "outputId": "4db7cef3-58b5-4400-d800-2cff311cac93"
      },
      "execution_count": 88,
      "outputs": [
        {
          "output_type": "stream",
          "name": "stdout",
          "text": [
            "{'numbers': [1, 2, 3, 10], 'operator': '*', 'state_result': 60}\n"
          ]
        }
      ]
    },
    {
      "cell_type": "code",
      "source": [],
      "metadata": {
        "id": "SOJIYF9-Ked7"
      },
      "execution_count": null,
      "outputs": []
    }
  ]
}