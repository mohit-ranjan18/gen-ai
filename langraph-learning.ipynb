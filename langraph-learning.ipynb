{
  "nbformat": 4,
  "nbformat_minor": 0,
  "metadata": {
    "colab": {
      "provenance": [],
      "toc_visible": true,
      "authorship_tag": "ABX9TyOkvX3cNmFnf1AQHlMZbuum",
      "include_colab_link": true
    },
    "kernelspec": {
      "name": "python3",
      "display_name": "Python 3"
    },
    "language_info": {
      "name": "python"
    }
  },
  "cells": [
    {
      "cell_type": "markdown",
      "metadata": {
        "id": "view-in-github",
        "colab_type": "text"
      },
      "source": [
        "<a href=\"https://colab.research.google.com/github/mohit-ranjan18/gen-ai/blob/agent-experiments/langraph-learning.ipynb\" target=\"_parent\"><img src=\"https://colab.research.google.com/assets/colab-badge.svg\" alt=\"Open In Colab\"/></a>"
      ]
    },
    {
      "cell_type": "code",
      "source": [
        "!echo \"# gen-ai\" >> README.md\n",
        "!git init\n",
        "!git config --global user.email \"mohit.ranjan18@gmail.com\"\n",
        "!git config --global user.name \"mohit-ranjan18\"\n",
        "!git add README.md\n",
        "!git commit -m \"first commit\"\n",
        "!git branch -M master\n",
        "# !git remote add origin https://github.com/mohit-ranjan18/gen-ai.git\n",
        "# !git push -u origin main"
      ],
      "metadata": {
        "colab": {
          "base_uri": "https://localhost:8080/"
        },
        "id": "7b7m_rsS7_Pr",
        "outputId": "75671014-1c53-4ca4-a268-bfa16a255212"
      },
      "execution_count": 5,
      "outputs": [
        {
          "output_type": "stream",
          "name": "stdout",
          "text": [
            "Reinitialized existing Git repository in /content/.git/\n",
            "[master b3cdb72] first commit\n",
            " 1 file changed, 1 insertion(+)\n"
          ]
        }
      ]
    },
    {
      "cell_type": "code",
      "source": [
        "from typing import Annotated\n",
        "\n",
        "from typing_extensions import TypedDict\n",
        "\n",
        "from langgraph.graph import StateGraph, START\n",
        "from langgraph.graph.message import add_messages\n",
        "\n",
        "\n",
        "class State(TypedDict):\n",
        "    # Messages have the type \"list\". The `add_messages` function\n",
        "    # in the annotation defines how this state key should be updated\n",
        "    # (in this case, it appends messages to the list, rather than overwriting them)\n",
        "    messages: Annotated[list, add_messages]\n",
        "\n",
        "\n",
        "graph_builder = StateGraph(State)"
      ],
      "metadata": {
        "id": "Nj9lVvsMGQTZ"
      },
      "execution_count": 2,
      "outputs": []
    },
    {
      "cell_type": "code",
      "source": [
        "import getpass\n",
        "import os\n",
        "\n",
        "if \"GROQ_API_KEY\" not in os.environ:\n",
        "    os.environ[\"GROQ_API_KEY\"] = getpass.getpass(\"Enter your Groq API key: \")"
      ],
      "metadata": {
        "colab": {
          "base_uri": "https://localhost:8080/"
        },
        "id": "eXZ0l9bVHFtH",
        "outputId": "fd32c22e-5a76-46e5-a3c9-3fc2840e0822"
      },
      "execution_count": 3,
      "outputs": [
        {
          "name": "stdout",
          "output_type": "stream",
          "text": [
            "Enter your Groq API key: ··········\n"
          ]
        }
      ]
    },
    {
      "cell_type": "code",
      "source": [
        "!pip install -qU langchain-groq"
      ],
      "metadata": {
        "colab": {
          "base_uri": "https://localhost:8080/"
        },
        "id": "YBrn2U7fHmpR",
        "outputId": "ae61a590-8932-401c-b5e4-e00e340d3c25"
      },
      "execution_count": 4,
      "outputs": [
        {
          "output_type": "stream",
          "name": "stdout",
          "text": [
            "\u001b[?25l   \u001b[90m━━━━━━━━━━━━━━━━━━━━━━━━━━━━━━━━━━━━━━━━\u001b[0m \u001b[32m0.0/130.2 kB\u001b[0m \u001b[31m?\u001b[0m eta \u001b[36m-:--:--\u001b[0m\r\u001b[2K   \u001b[91m━━━━━━━━━━━━━━━━━━━━━━━━━━━━━━━━━━━━━\u001b[0m\u001b[91m╸\u001b[0m\u001b[90m━━\u001b[0m \u001b[32m122.9/130.2 kB\u001b[0m \u001b[31m5.7 MB/s\u001b[0m eta \u001b[36m0:00:01\u001b[0m\r\u001b[2K   \u001b[90m━━━━━━━━━━━━━━━━━━━━━━━━━━━━━━━━━━━━━━━━\u001b[0m \u001b[32m130.2/130.2 kB\u001b[0m \u001b[31m3.2 MB/s\u001b[0m eta \u001b[36m0:00:00\u001b[0m\n",
            "\u001b[?25h"
          ]
        }
      ]
    },
    {
      "cell_type": "code",
      "source": [
        "from langchain_groq import ChatGroq\n",
        "\n",
        "llm = ChatGroq(\n",
        "    model=\"llama-3.1-8b-instant\",\n",
        "    temperature=0,\n",
        "    max_tokens=None,\n",
        "    timeout=None,\n",
        "    max_retries=2,\n",
        "    # other params...\n",
        ")"
      ],
      "metadata": {
        "id": "8jgiVGCyIP7f"
      },
      "execution_count": 5,
      "outputs": []
    },
    {
      "cell_type": "code",
      "source": [
        "messages = [\n",
        "    (\n",
        "        \"system\",\n",
        "        \"You are a helpful assistant that translates English to French. Translate the user sentence.\",\n",
        "    ),\n",
        "    (\"human\", \"I love programming.\"),\n",
        "]\n",
        "ai_msg = llm.invoke(messages)\n",
        "ai_msg"
      ],
      "metadata": {
        "colab": {
          "base_uri": "https://localhost:8080/"
        },
        "id": "b3QEp2yxIYuU",
        "outputId": "bca4668f-0459-448c-d5e7-30d58437ef12"
      },
      "execution_count": 6,
      "outputs": [
        {
          "output_type": "execute_result",
          "data": {
            "text/plain": [
              "AIMessage(content='Je adore le programmation.', additional_kwargs={}, response_metadata={'token_usage': {'completion_tokens': 7, 'prompt_tokens': 55, 'total_tokens': 62, 'completion_time': 0.017004686, 'prompt_time': 0.002837082, 'queue_time': 0.199866535, 'total_time': 0.019841768}, 'model_name': 'llama-3.1-8b-instant', 'system_fingerprint': 'fp_510c177af0', 'finish_reason': 'stop', 'logprobs': None}, id='run--897b3496-9ea9-48d4-954e-6e7fa5f2fb01-0', usage_metadata={'input_tokens': 55, 'output_tokens': 7, 'total_tokens': 62})"
            ]
          },
          "metadata": {},
          "execution_count": 6
        }
      ]
    },
    {
      "cell_type": "code",
      "source": [
        "print(ai_msg.content)"
      ],
      "metadata": {
        "colab": {
          "base_uri": "https://localhost:8080/"
        },
        "id": "PcH6TVCPIdkv",
        "outputId": "077a5de2-22e5-43c2-c2a2-2139acf38608"
      },
      "execution_count": 7,
      "outputs": [
        {
          "output_type": "stream",
          "name": "stdout",
          "text": [
            "Je adore le programmation.\n"
          ]
        }
      ]
    },
    {
      "cell_type": "code",
      "source": [
        "def chatbot(state: State):\n",
        "    return {\"messages\": [llm.invoke(state[\"messages\"])]}\n",
        "\n",
        "\n",
        "# The first argument is the unique node name\n",
        "# The second argument is the function or object that will be called whenever\n",
        "# the node is used.\n",
        "graph_builder.add_node(\"chatbot\", chatbot)"
      ],
      "metadata": {
        "colab": {
          "base_uri": "https://localhost:8080/"
        },
        "id": "kqYuyMsxImDc",
        "outputId": "743623c3-6039-432c-d103-cfbabdc8d21e"
      },
      "execution_count": 8,
      "outputs": [
        {
          "output_type": "execute_result",
          "data": {
            "text/plain": [
              "<langgraph.graph.state.StateGraph at 0x7cc9df2b7a10>"
            ]
          },
          "metadata": {},
          "execution_count": 8
        }
      ]
    },
    {
      "cell_type": "code",
      "source": [
        "graph_builder.add_edge(START, \"chatbot\")"
      ],
      "metadata": {
        "colab": {
          "base_uri": "https://localhost:8080/"
        },
        "id": "8lMp7Z-0I65k",
        "outputId": "481d8b39-e2d1-4a32-bb13-6671c7601803"
      },
      "execution_count": 9,
      "outputs": [
        {
          "output_type": "execute_result",
          "data": {
            "text/plain": [
              "<langgraph.graph.state.StateGraph at 0x7cc9df2b7a10>"
            ]
          },
          "metadata": {},
          "execution_count": 9
        }
      ]
    },
    {
      "cell_type": "code",
      "source": [
        "graph = graph_builder.compile()"
      ],
      "metadata": {
        "id": "uWjw35aeI_mQ"
      },
      "execution_count": 10,
      "outputs": []
    },
    {
      "cell_type": "code",
      "source": [
        "from IPython.display import Image, display\n",
        "\n",
        "try:\n",
        "    display(Image(graph.get_graph().draw_mermaid_png()))\n",
        "except Exception:\n",
        "    # This requires some extra dependencies and is optional\n",
        "    pass"
      ],
      "metadata": {
        "colab": {
          "base_uri": "https://localhost:8080/",
          "height": 251
        },
        "id": "Imw8Wol4JDsm",
        "outputId": "9b2552e6-1d16-4bd6-8ce4-1b7b1a447ea8"
      },
      "execution_count": 11,
      "outputs": [
        {
          "output_type": "display_data",
          "data": {
            "image/png": "[encoded data removed]",
            "text/plain": [
              "<IPython.core.display.Image object>"
            ]
          },
          "metadata": {}
        }
      ]
    },
    {
      "cell_type": "code",
      "source": [
        "def stream_graph_updates(user_input: str):\n",
        "    for event in graph.stream({\"messages\": [{\"role\": \"user\", \"content\": user_input}]}):\n",
        "        for value in event.values():\n",
        "            print(\"Assistant:\", value[\"messages\"][-1].content)\n",
        "\n",
        "\n",
        "while True:\n",
        "    try:\n",
        "        user_input = input(\"User: \")\n",
        "        if user_input.lower() in [\"quit\", \"exit\", \"q\"]:\n",
        "            print(\"Goodbye!\")\n",
        "            break\n",
        "        stream_graph_updates(user_input)\n",
        "    except:\n",
        "        # fallback if input() is not available\n",
        "        user_input = \"What do you know about LangGraph?\"\n",
        "        print(\"User: \" + user_input)\n",
        "        stream_graph_updates(user_input)\n",
        "        break"
      ],
      "metadata": {
        "colab": {
          "base_uri": "https://localhost:8080/"
        },
        "id": "xnBLyjs_JIxd",
        "outputId": "4dad54c8-1a7d-4994-d54c-a8d6d3b0a8c1"
      },
      "execution_count": 12,
      "outputs": [
        {
          "output_type": "stream",
          "name": "stdout",
          "text": [
            "User: Tell me something about trump and modi relation and how it impacts world\n",
            "Assistant: The relationship between Donald Trump, the 45th President of the United States, and Narendra Modi, the Prime Minister of India, has been significant and has had various implications for the world.\n",
            "\n",
            "**Early Relations (2014-2016)**\n",
            "\n",
            "Narendra Modi, who became the Prime Minister of India in 2014, was initially seen with skepticism by the Obama administration due to concerns over his handling of the 2002 Gujarat riots. However, Donald Trump, who was a businessman at that time, had expressed admiration for Modi's economic policies and had even tweeted about his potential as a leader.\n",
            "\n",
            "**Trump's Presidency (2017-2021)**\n",
            "\n",
            "When Trump became the President of the United States in 2017, he quickly established a rapport with Modi. The two leaders shared a strong commitment to economic nationalism, and Trump saw Modi as a kindred spirit in his efforts to promote American business interests in India.\n",
            "\n",
            "**Key Developments**\n",
            "\n",
            "1. **Trade Relations**: Trump and Modi worked together to strengthen trade ties between the two countries. In 2017, the US and India signed a Logistics Exchange Memorandum of Agreement (LEMOA), which facilitated cooperation in defense logistics and supply chain management.\n",
            "2. **Defense Cooperation**: The two leaders also strengthened defense ties, with the US providing India with advanced military equipment, including the F-16 and F-35 fighter jets.\n",
            "3. **Energy Cooperation**: Trump and Modi collaborated on energy projects, including the sale of American liquefied natural gas (LNG) to India.\n",
            "4. **Counter-Terrorism**: The two leaders shared concerns over terrorism and worked together to counter the threat posed by groups like ISIS and Al-Qaeda.\n",
            "\n",
            "**Impact on the World**\n",
            "\n",
            "The Trump-Modi relationship had significant implications for the world:\n",
            "\n",
            "1. **Shift in Global Alliances**: The Trump-Modi partnership marked a shift in global alliances, with the US and India emerging as key players in the Indo-Pacific region.\n",
            "2. **Countering China**: The two leaders worked together to counter China's growing influence in the region, with the US and India cooperating on issues like trade, security, and energy.\n",
            "3. **Promoting Economic Growth**: The Trump-Modi relationship helped promote economic growth in both countries, with the US and India signing several trade agreements and investment deals.\n",
            "4. **Strengthening Democracy**: The two leaders shared a commitment to democracy and human rights, with Trump and Modi working together to promote democratic values and counter authoritarianism.\n",
            "\n",
            "**Legacy**\n",
            "\n",
            "The Trump-Modi relationship has left a lasting impact on the world:\n",
            "\n",
            "1. **Strengthened US-India Ties**: The partnership has strengthened US-India ties, with the two countries emerging as key players in the Indo-Pacific region.\n",
            "2. **Countering China**: The Trump-Modi relationship has helped counter China's growing influence in the region, with the US and India cooperating on issues like trade, security, and energy.\n",
            "3. **Promoting Economic Growth**: The partnership has promoted economic growth in both countries, with the US and India signing several trade agreements and investment deals.\n",
            "\n",
            "However, the relationship has also been criticized for its focus on economic nationalism and its potential impact on global governance and institutions.\n",
            "User: Is modi still respected across the world?\n",
            "Assistant: Narendra Modi, the Prime Minister of India, has a complex and multifaceted reputation globally. His respect and popularity vary across different regions and communities. Here's a balanced view:\n",
            "\n",
            "**Positive perceptions:**\n",
            "\n",
            "1. **India's economic growth**: Modi's government has been credited with implementing policies that have boosted India's economic growth, making it one of the fastest-growing major economies in the world.\n",
            "2. **Infrastructure development**: His government has invested heavily in infrastructure development, including roads, railways, and airports, which has improved connectivity and facilitated economic growth.\n",
            "3. **Digital India initiative**: Modi's \"Digital India\" initiative has aimed to make India a hub for digital innovation and entrepreneurship, which has gained international recognition.\n",
            "4. **Global diplomacy**: Modi has been actively engaging with world leaders, including those from the United States, China, and other major economies, to promote India's interests and strengthen global partnerships.\n",
            "\n",
            "**Negative perceptions:**\n",
            "\n",
            "1. **Human rights concerns**: Modi's government has faced criticism for human rights abuses, particularly in the context of the Kashmir conflict and the treatment of minority communities, such as Muslims and Dalits.\n",
            "2. **Rise of nationalism**: Modi's government has been accused of promoting a form of nationalism that has led to increased tensions with neighboring countries, particularly Pakistan, and has been criticized for its handling of the Kashmir issue.\n",
            "3. **Economic inequality**: Critics argue that Modi's economic policies have exacerbated economic inequality in India, with the wealthy elite benefiting at the expense of the poor and marginalized.\n",
            "4. **Climate change**: India has been criticized for its slow progress in addressing climate change, with Modi's government facing criticism for its fossil fuel-based economic growth model.\n",
            "\n",
            "**Regional perspectives:**\n",
            "\n",
            "1. **South Asia**: Modi's government has been criticized by neighboring countries, particularly Pakistan, for its handling of the Kashmir issue and its nationalist rhetoric.\n",
            "2. **Southeast Asia**: Modi's government has been seen as a key player in regional economic and security initiatives, such as the Bay of Bengal Initiative for Multi-Sectoral Technical and Economic Cooperation (BIMSTEC).\n",
            "3. **Africa**: Modi's government has been actively engaging with African countries, particularly in the context of trade and investment, and has been seen as a key player in regional economic initiatives.\n",
            "4. **Europe**: Modi's government has been criticized by European countries, particularly the United Kingdom, for its handling of the Kashmir issue and its nationalist rhetoric.\n",
            "\n",
            "In conclusion, while Modi's government has achieved significant economic growth and development, his respect and popularity vary across different regions and communities. His government's handling of human rights, economic inequality, and climate change has been criticized by many, particularly in the context of South Asia and Europe.\n",
            "User: Answer in yes or no\n",
            "Assistant: I'm ready to answer in yes or no. What's your question?\n",
            "User: About modi respect\n",
            "Assistant: Narendra Modi is the 14th and current Prime Minister of India, serving since 2014. He is a member of the Bharatiya Janata Party (BJP) and has been a key figure in Indian politics for several decades. Here are some aspects of his life and career that are often associated with respect:\n",
            "\n",
            "1. **Leadership during the COVID-19 pandemic**: Modi's government implemented a nationwide lockdown in 2020 to combat the spread of COVID-19, which was widely praised by international leaders and health experts. His leadership during this crisis earned him respect from many Indians and global leaders.\n",
            "2. **Economic reforms**: Modi's government has implemented several economic reforms, including the Goods and Services Tax (GST), which has simplified India's tax system and increased tax revenue. His government has also taken steps to promote entrepreneurship and innovation, which has earned him respect from business leaders and economists.\n",
            "3. **Infrastructure development**: Modi's government has invested heavily in infrastructure development, including roads, highways, airports, and railways. This has improved connectivity and facilitated economic growth, earning him respect from Indians who have benefited from these projects.\n",
            "4. **Social welfare programs**: Modi's government has launched several social welfare programs, including the Pradhan Mantri Jan Dhan Yojana (PMJDY), which provides financial inclusion to millions of Indians. His government has also launched programs to promote education, healthcare, and sanitation, which have earned him respect from Indians who have benefited from these programs.\n",
            "5. **Foreign policy**: Modi's government has taken a strong stance on foreign policy issues, including the Doklam standoff with China and the Kashmir issue with Pakistan. His government has also strengthened ties with countries like the United States, Japan, and Israel, which has earned him respect from Indians who value strong international relations.\n",
            "6. **Personal qualities**: Modi is known for his strong work ethic, simplicity, and humility. He is a vegetarian and has been a vocal advocate for animal welfare and environmental protection. His personal qualities have earned him respect from Indians who admire his commitment to public service.\n",
            "\n",
            "However, it's worth noting that Modi is also a polarizing figure, and his policies and actions have been criticized by many Indians and international observers. Some of the criticisms include:\n",
            "\n",
            "1. **Hindutva ideology**: Modi's government has been accused of promoting a Hindu nationalist agenda, which has led to concerns about the rights of minorities, particularly Muslims and Christians.\n",
            "2. **Communal violence**: Modi's government has been criticized for its handling of communal violence, including the 2002 Gujarat riots, which killed over 1,000 people, mostly Muslims.\n",
            "3. **Economic inequality**: Modi's government has been accused of exacerbating economic inequality, particularly in rural areas, where many Indians have been left behind by economic growth.\n",
            "4. **Human rights abuses**: Modi's government has been criticized for human rights abuses, including the use of force against protesters and the detention of activists and journalists.\n",
            "\n",
            "Overall, opinions about Modi's respect are highly divided, and his legacy will likely be shaped by the outcomes of his policies and actions in the coming years.\n",
            "User: Quit\n",
            "Goodbye!\n"
          ]
        }
      ]
    },
    {
      "cell_type": "code",
      "source": [],
      "metadata": {
        "id": "_NmSQxDFJbFD"
      },
      "execution_count": null,
      "outputs": []
    }
  ]
}